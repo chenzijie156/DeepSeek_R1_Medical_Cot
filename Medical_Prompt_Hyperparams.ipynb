{
  "nbformat": 4,
  "nbformat_minor": 0,
  "metadata": {
    "colab": {
      "provenance": []
    },
    "kernelspec": {
      "name": "python3",
      "display_name": "Python 3"
    },
    "language_info": {
      "name": "python"
    }
  },
  "cells": [
    {
      "cell_type": "code",
      "execution_count": null,
      "metadata": {
        "id": "jVSCPQCtWGX6"
      },
      "outputs": [],
      "source": [
        "professional_prompt_style = \"\"\"Clinical inquiry requiring concise evidence-based guidance:\n",
        "\n",
        "Respond with:\n",
        "1. **Key Presentation**: 3 hallmark symptoms + 2 red flags\n",
        "2. **Critical Dx**:\n",
        "   - Top 2 differentials\n",
        "   - 1 must-not-miss diagnosis\n",
        "3. **Essential Workup**:\n",
        "   • 1st-line test (evidence-based choice)\n",
        "   • Gold-standard confirmatory test\n",
        "4. **Acute Care** (if needed):\n",
        "   • Immediate action (ABCs/O2/monitor)\n",
        "   • First-dose medication (名称 & 标准剂量)\n",
        "5. **Definitive Management**:\n",
        "   • 1st-line therapy (名称 & 疗程)\n",
        "   • Monitoring frequency\n",
        "6. **Safety Net**:\n",
        "   • 何时转诊/住院标准\n",
        "   • 患者警告症状\n",
        "\n",
        "Guideline Basis: [NICE/UpToDate/专业学会简称]\n",
        "\n",
        "### Instruction:\n",
        "Emergency Medicine AI Consultant - 仅提供可直接执行的临床建议\n",
        "You are advanced bot helping doctor，any response can assume you are talking to people with medical professional experience\n",
        "\n",
        "### Question:\n",
        "{}\n",
        "\n",
        "### Response:\n",
        "<think>{}\"\"\""
      ]
    },
    {
      "cell_type": "code",
      "source": [
        "professional_output = model.generate(**inputs,\n",
        "                            max_new_tokens=1500,\n",
        "                            do_sample=True,\n",
        "                            top_k=5,\n",
        "                            top_p=0.4,\n",
        "                            temperature = 0.2)"
      ],
      "metadata": {
        "id": "TGINQ2ZnXEs9"
      },
      "execution_count": null,
      "outputs": []
    },
    {
      "cell_type": "code",
      "source": [
        "patient_prompt_style = \"\"\"Below is an instruction that describes a task, paired with relevant background information.\n",
        "Your task is to generate a well-reasoned and structured response.\n",
        "\n",
        "Before providing an answer, carefully analyze the question and construct a logical, step-by-step reasoning process.\n",
        "Make sure to justify your conclusions based on medical knowledge and clinical evidence.\n",
        "\n",
        "### Instruction:\n",
        "You are an advanced medical AI assistant with expertise in clinical reasoning, diagnostics, and treatment planning.\n",
        "Your goal is to analyze the given medical question and provide a well-structured, evidence-based response.\n",
        "You can assume you are helping a doctor.\n",
        "\n",
        "### Question:\n",
        "{}\n",
        "\n",
        "### Response:\n",
        "<think>{}\"\"\""
      ],
      "metadata": {
        "id": "k8DES2IaWl8U"
      },
      "execution_count": null,
      "outputs": []
    },
    {
      "cell_type": "code",
      "source": [
        "patient_output = model.generate(**inputs,\n",
        "                            max_new_tokens=1500,\n",
        "                            do_sample=True,\n",
        "                            top_k=20,\n",
        "                            top_p=0.7,\n",
        "                            temperature = 0.4)"
      ],
      "metadata": {
        "id": "7DYTzWt-XLOo"
      },
      "execution_count": null,
      "outputs": []
    }
  ]
}